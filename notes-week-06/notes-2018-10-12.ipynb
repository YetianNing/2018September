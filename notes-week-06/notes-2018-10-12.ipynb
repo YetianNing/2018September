{
 "cells": [
  {
   "cell_type": "markdown",
   "metadata": {},
   "source": [
    "# MATH 210 Introduction to Mathematical Computing\n",
    "\n",
    "## October 12, 2018\n",
    "\n",
    "\n",
    "* Riemann Sums"
   ]
  },
  {
   "cell_type": "code",
   "execution_count": 1,
   "metadata": {},
   "outputs": [],
   "source": [
    "import numpy as np\n",
    "import matplotlib.pyplot as plt\n",
    "%matplotlib inline"
   ]
  },
  {
   "cell_type": "markdown",
   "metadata": {},
   "source": [
    "## Example\n",
    "\n",
    "Compute Riemann sums to approximate\n",
    "\n",
    "$$\n",
    "\\int_0^1 e^{-x^2}dx\n",
    "$$"
   ]
  },
  {
   "cell_type": "code",
   "execution_count": 2,
   "metadata": {},
   "outputs": [
    {
     "name": "stdout",
     "output_type": "stream",
     "text": [
      "Left Riemann Sum for N = 1000\n",
      "0.747140131779\n",
      "Midpoint Riemann Sum for N = 1000\n",
      "0.746824163469\n",
      "Right Riemann Sum for N = 1000\n",
      "0.74650801122\n"
     ]
    }
   ],
   "source": [
    "N = 1000; a = 0; b = 1; dx = (b - a)/N\n",
    "x = np.linspace(a,b,N+1)\n",
    "y = np.exp(-x**2)\n",
    "\n",
    "# Left endpoints\n",
    "y_left = y[:N]\n",
    "left_riemann = np.sum(y_left)*dx\n",
    "print('Left Riemann Sum for N =',N)\n",
    "print(left_riemann)\n",
    "\n",
    "# Midpoints\n",
    "x_mid = (x[1:] + x[:N])/2\n",
    "y_mid = np.exp(-x_mid**2)\n",
    "mid_riemann = np.sum(y_mid)*dx\n",
    "print('Midpoint Riemann Sum for N =',N)\n",
    "print(mid_riemann)\n",
    "\n",
    "# Right endpoints\n",
    "y_right = y[1:]\n",
    "right_riemann = np.sum(y_right)*dx\n",
    "print('Right Riemann Sum for N =',N)\n",
    "print(right_riemann)"
   ]
  }
 ],
 "metadata": {
  "kernelspec": {
   "display_name": "Python 3",
   "language": "python",
   "name": "python3"
  },
  "language_info": {
   "codemirror_mode": {
    "name": "ipython",
    "version": 3
   },
   "file_extension": ".py",
   "mimetype": "text/x-python",
   "name": "python",
   "nbconvert_exporter": "python",
   "pygments_lexer": "ipython3",
   "version": "3.6.6"
  }
 },
 "nbformat": 4,
 "nbformat_minor": 2
}
