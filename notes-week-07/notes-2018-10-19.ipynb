{
 "cells": [
  {
   "cell_type": "markdown",
   "metadata": {},
   "source": [
    "# MATH 210 Introduction to Mathematical Computing\n",
    "\n",
    "## October 19, 2018"
   ]
  },
  {
   "cell_type": "code",
   "execution_count": 1,
   "metadata": {},
   "outputs": [],
   "source": [
    "import numpy as np\n",
    "import matplotlib.pyplot as plt\n",
    "%matplotlib inline"
   ]
  },
  {
   "cell_type": "markdown",
   "metadata": {},
   "source": [
    "## Example: Non-elementary Integrals\n",
    "\n",
    "Let's do one more example with the trapezoid rule. Intersting examples are [non-elementary integrals](https://en.wikipedia.org/wiki/Nonelementary_integral). These are integrals for which there is no solution in terms of elementary functions.\n",
    "\n",
    "How many subintervals $N$ are required by the trapezoid rule to compute\n",
    "\n",
    "$$\n",
    "\\int_0^{1/2} \\sqrt{1 - x^4} dx\n",
    "$$\n",
    "\n",
    "with error less than 0.001?"
   ]
  },
  {
   "cell_type": "markdown",
   "metadata": {},
   "source": [
    "We need to find a bound on the second derivative of $f(x) = \\sqrt{1 - x^4}$. We can do it by hand, we can use optimization methods, we can plot $f''(x)$ or we can use [SymPy](https://www.sympy.org), the symbolic computing package in Python."
   ]
  },
  {
   "cell_type": "code",
   "execution_count": 2,
   "metadata": {},
   "outputs": [],
   "source": [
    "from sympy import diff, symbols, init_printing"
   ]
  },
  {
   "cell_type": "code",
   "execution_count": 3,
   "metadata": {},
   "outputs": [],
   "source": [
    "init_printing()"
   ]
  },
  {
   "cell_type": "markdown",
   "metadata": {},
   "source": [
    "Create a SymPy symbol for $x$:"
   ]
  },
  {
   "cell_type": "code",
   "execution_count": 4,
   "metadata": {},
   "outputs": [],
   "source": [
    "x = symbols('x')"
   ]
  },
  {
   "cell_type": "markdown",
   "metadata": {},
   "source": [
    "Create a symbolic expression for $f(x)$:"
   ]
  },
  {
   "cell_type": "code",
   "execution_count": 5,
   "metadata": {},
   "outputs": [],
   "source": [
    "f = (1 - x**4)**0.5"
   ]
  },
  {
   "cell_type": "code",
   "execution_count": 6,
   "metadata": {},
   "outputs": [
    {
     "data": {
      "image/png": "[encoded data removed]",
      "text/latex": [
       "$$\\left(- x^{4} + 1\\right)^{0.5}$$"
      ],
      "text/plain": [
       "          0.5\n",
       "⎛   4    ⎞   \n",
       "⎝- x  + 1⎠   "
      ]
     },
     "execution_count": 6,
     "metadata": {},
     "output_type": "execute_result"
    }
   ],
   "source": [
    "f"
   ]
  },
  {
   "cell_type": "markdown",
   "metadata": {},
   "source": [
    "Compute the second derivative:"
   ]
  },
  {
   "cell_type": "code",
   "execution_count": 7,
   "metadata": {},
   "outputs": [
    {
     "data": {
      "image/png": "[encoded data removed]",
      "text/latex": [
       "$$- \\frac{4.0 x^{6}}{\\left(- x^{4} + 1\\right)^{1.5}} - \\frac{6.0 x^{2}}{\\left(- x^{4} + 1\\right)^{0.5}}$$"
      ],
      "text/plain": [
       "                   -1.5                    -0.5\n",
       "       6 ⎛   4    ⎞            2 ⎛   4    ⎞    \n",
       "- 4.0⋅x ⋅⎝- x  + 1⎠     - 6.0⋅x ⋅⎝- x  + 1⎠    "
      ]
     },
     "execution_count": 7,
     "metadata": {},
     "output_type": "execute_result"
    }
   ],
   "source": [
    "DDf = diff(diff(f,x))\n",
    "DDf"
   ]
  },
  {
   "cell_type": "markdown",
   "metadata": {},
   "source": [
    "Plot $| \\, f''(x) \\, |$ on $[0,1/2]$."
   ]
  },
  {
   "cell_type": "code",
   "execution_count": 8,
   "metadata": {},
   "outputs": [
    {
     "data": {
      "image/png": "[encoded data removed]",
      "text/plain": [
       "<Figure size 432x288 with 1 Axes>"
      ]
     },
     "metadata": {
      "needs_background": "light"
     },
     "output_type": "display_data"
    }
   ],
   "source": [
    "x = np.linspace(0,0.5,100)\n",
    "y = np.abs(10*x**6 - 6*x**2)/(1 - x**4)**1.5\n",
    "plt.plot(x,y)\n",
    "plt.show()"
   ]
  },
  {
   "cell_type": "markdown",
   "metadata": {},
   "source": [
    "Maximum value occurs at the right endpoint of the interval."
   ]
  },
  {
   "cell_type": "code",
   "execution_count": 9,
   "metadata": {},
   "outputs": [
    {
     "data": {
      "image/png": "[encoded data removed]",
      "text/latex": [
       "$$1.48034030122$$"
      ],
      "text/plain": [
       "1.4803403012170571"
      ]
     },
     "execution_count": 9,
     "metadata": {},
     "output_type": "execute_result"
    }
   ],
   "source": [
    "y[-1]"
   ]
  },
  {
   "cell_type": "markdown",
   "metadata": {},
   "source": [
    "Plug into the error formula to find $N$:"
   ]
  },
  {
   "cell_type": "code",
   "execution_count": 10,
   "metadata": {},
   "outputs": [
    {
     "data": {
      "image/png": "[encoded data removed]",
      "text/latex": [
       "$$3.9268577095486497$$"
      ],
      "text/plain": [
       "3.9268577095486497"
      ]
     },
     "execution_count": 10,
     "metadata": {},
     "output_type": "execute_result"
    }
   ],
   "source": [
    "(0.5**3*(1.48034030122)/12/0.001)**0.5"
   ]
  },
  {
   "cell_type": "markdown",
   "metadata": {},
   "source": [
    "Compute trapezoid rule with $N=4$:"
   ]
  },
  {
   "cell_type": "code",
   "execution_count": 11,
   "metadata": {},
   "outputs": [
    {
     "name": "stdout",
     "output_type": "stream",
     "text": [
      "0.496513592057\n"
     ]
    }
   ],
   "source": [
    "N = 4; a = 0; b = 1/2;\n",
    "x = np.linspace(a,b,N+1)\n",
    "y = (1 - x**4)**0.5\n",
    "dx = (b - a)/N\n",
    "TN = dx/2 * np.sum(y[:N] + y[1:])\n",
    "print(TN)"
   ]
  }
 ],
 "metadata": {
  "kernelspec": {
   "display_name": "Python 3",
   "language": "python",
   "name": "python3"
  },
  "language_info": {
   "codemirror_mode": {
    "name": "ipython",
    "version": 3
   },
   "file_extension": ".py",
   "mimetype": "text/x-python",
   "name": "python",
   "nbconvert_exporter": "python",
   "pygments_lexer": "ipython3",
   "version": "3.6.6"
  }
 },
 "nbformat": 4,
 "nbformat_minor": 2
}
