{
 "cells": [
  {
   "cell_type": "markdown",
   "metadata": {},
   "source": [
    "# MATH 210 Introduction to Mathematical Computing\n",
    "\n",
    "## October 17, 2018"
   ]
  },
  {
   "cell_type": "code",
   "execution_count": 1,
   "metadata": {},
   "outputs": [],
   "source": [
    "import numpy as np\n",
    "import matplotlib.pyplot as plt\n",
    "%matplotlib inline"
   ]
  },
  {
   "cell_type": "markdown",
   "metadata": {},
   "source": [
    "## Example: Fresnel Integrals\n",
    "\n",
    "Consider the [Fresnel integral](https://en.wikipedia.org/wiki/Fresnel_integral)\n",
    "\n",
    "$$\n",
    "S(t) = \\int_0^t \\sin(x^2) dx\n",
    "$$\n",
    "\n",
    "Let's approximate the integral using the trapezoid method. Find a value $N$ such that\n",
    "\n",
    "$$\n",
    "\\left| \\, S(1) - T_N(f) \\, \\right| \\leq 0.001\n",
    "$$\n",
    "\n",
    "Using the error formula we found\n",
    "\n",
    "$$\n",
    "N \\geq 13.8\n",
    "$$"
   ]
  },
  {
   "cell_type": "code",
   "execution_count": 2,
   "metadata": {},
   "outputs": [
    {
     "name": "stdout",
     "output_type": "stream",
     "text": [
      "0.310728264183\n"
     ]
    }
   ],
   "source": [
    "N = 14; a = 0; b = 1;\n",
    "x = np.linspace(a,b,N+1)\n",
    "y = np.sin(x**2)\n",
    "dx = (b-a)/N\n",
    "TN = np.sum(y[1:] + y[:N])/2*dx\n",
    "print(TN)"
   ]
  },
  {
   "cell_type": "markdown",
   "metadata": {},
   "source": [
    "Compare to the SciPy function `scipy.special.fresnel`."
   ]
  },
  {
   "cell_type": "code",
   "execution_count": 3,
   "metadata": {},
   "outputs": [],
   "source": [
    "from scipy.special import fresnel"
   ]
  },
  {
   "cell_type": "markdown",
   "metadata": {},
   "source": [
    "Note that we have to scale the SciPy implementation of the Fresnel integral to get the same result:"
   ]
  },
  {
   "cell_type": "code",
   "execution_count": 4,
   "metadata": {},
   "outputs": [
    {
     "data": {
      "text/plain": [
       "0.31026830172338116"
      ]
     },
     "execution_count": 4,
     "metadata": {},
     "output_type": "execute_result"
    }
   ],
   "source": [
    "np.sqrt(np.pi/2)*fresnel(np.sqrt(2/np.pi))[0]"
   ]
  },
  {
   "cell_type": "markdown",
   "metadata": {},
   "source": [
    "## Example: Natural Logs\n",
    "\n",
    "Use the trapezoid method to approximate the integral\n",
    "\n",
    "$$\n",
    "\\int_2^e \\ln \\left( \\ln(x) \\right) \\, dx\n",
    "$$\n",
    "\n",
    "Let's choose (arbitrarily) $N=14$."
   ]
  },
  {
   "cell_type": "code",
   "execution_count": 5,
   "metadata": {},
   "outputs": [
    {
     "name": "stdout",
     "output_type": "stream",
     "text": [
      "-0.117005716102\n"
     ]
    }
   ],
   "source": [
    "N = 14; a = 2; b = np.e;\n",
    "x = np.linspace(a,b,N+1)\n",
    "y = np.log(np.log(x))\n",
    "dx = (b-a)/N\n",
    "TN = np.sum(y[1:] + y[:N])/2*dx\n",
    "print(TN)"
   ]
  },
  {
   "cell_type": "markdown",
   "metadata": {},
   "source": [
    "We can use the error formula to estimate the error. We compute the second derivative\n",
    "\n",
    "$$\n",
    "\\frac{d^2}{dx^2} \\ln \\left( \\ln(x) \\right) = -\\frac{\\ln(x) + 1}{(x\\ln(x))^2}\n",
    "$$\n",
    "\n",
    "and we plot $\\left| f''(x) \\right|$."
   ]
  },
  {
   "cell_type": "code",
   "execution_count": 6,
   "metadata": {},
   "outputs": [
    {
     "data": {
      "image/png": "[encoded data removed]",
      "text/plain": [
       "<Figure size 432x288 with 1 Axes>"
      ]
     },
     "metadata": {
      "needs_background": "light"
     },
     "output_type": "display_data"
    }
   ],
   "source": [
    "x = np.linspace(2,np.e,100)\n",
    "f = np.abs(-(np.log(x) + 1)/(np.log(x)*x)**2)\n",
    "plt.plot(x,f)\n",
    "plt.show()"
   ]
  },
  {
   "cell_type": "markdown",
   "metadata": {},
   "source": [
    "Therefore $\\left| f''(x) \\right| \\leq 0.9$ for $x \\in [2,e]$ and so the error is:"
   ]
  },
  {
   "cell_type": "code",
   "execution_count": 7,
   "metadata": {},
   "outputs": [
    {
     "name": "stdout",
     "output_type": "stream",
     "text": [
      "0.00014180444047664882\n"
     ]
    }
   ],
   "source": [
    "error = .9*(np.e - 2)**3/(12*14**2)\n",
    "print(error)"
   ]
  }
 ],
 "metadata": {
  "kernelspec": {
   "display_name": "Python 3",
   "language": "python",
   "name": "python3"
  },
  "language_info": {
   "codemirror_mode": {
    "name": "ipython",
    "version": 3
   },
   "file_extension": ".py",
   "mimetype": "text/x-python",
   "name": "python",
   "nbconvert_exporter": "python",
   "pygments_lexer": "ipython3",
   "version": "3.6.6"
  }
 },
 "nbformat": 4,
 "nbformat_minor": 2
}
