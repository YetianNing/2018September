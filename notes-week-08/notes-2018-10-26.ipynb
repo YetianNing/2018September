{
 "cells": [
  {
   "cell_type": "markdown",
   "metadata": {},
   "source": [
    "# MATH 210 Introduction to Mathematical Computing\n",
    "\n",
    "## October 26, 2018\n",
    "\n",
    "* Example: Arc Length"
   ]
  },
  {
   "cell_type": "code",
   "execution_count": 1,
   "metadata": {},
   "outputs": [],
   "source": [
    "import numpy as np\n",
    "import scipy.integrate as spi"
   ]
  },
  {
   "cell_type": "markdown",
   "metadata": {},
   "source": [
    "The [arc length](https://en.wikipedia.org/wiki/Arc_length) of a curve defined by $y=f(x)$ for $x \\in [a,b]$ is given by\n",
    "\n",
    "$$\n",
    "A = \\int_a^b \\sqrt{1 + \\left( f'(x) \\right)^2} dx\n",
    "$$"
   ]
  },
  {
   "cell_type": "markdown",
   "metadata": {},
   "source": [
    "Let's write a function called `arc_length` which takes 5 input parameters `f`, `a`, `b`, and `N` and returns an approximation of the arc length of $y=f(x)$ using central difference formula to approximate $f'(x)$ (with step size `h=(b-a)/N`) and the trapezoid rule to approximate $A$ (with `N` subintervals)."
   ]
  },
  {
   "cell_type": "code",
   "execution_count": 2,
   "metadata": {},
   "outputs": [],
   "source": [
    "def arc_length(f,a,b,h,N):\n",
    "    x = np.linspace(a,b,N+1)\n",
    "    h = (b - a)/N\n",
    "    \n",
    "    # Initialize derivative array\n",
    "    D = np.zeros(N+1)\n",
    "    \n",
    "    # Forward difference at x=a\n",
    "    D[0] = (f(a+h) - f(a))/h\n",
    "    \n",
    "    # Backward difference at x=b\n",
    "    D[-1] = (f(b) - f(b-h))/h\n",
    "    \n",
    "    # Central difference away from endpoints\n",
    "    D[1:-1] = (f(x[1:-1]+h)-f(x[1:-1]-h))/(2*h)\n",
    "    \n",
    "    # Trapezoid rule\n",
    "    y = np.sqrt(1 + D**2)\n",
    "    I = spi.trapz(y,x)\n",
    "    return I"
   ]
  },
  {
   "cell_type": "markdown",
   "metadata": {},
   "source": [
    "Test with a function we know the answer for. The arc length of $f(x)=\\sqrt{1-x^2}$ for $x \\in [-1,1]$ is $\\pi$:"
   ]
  },
  {
   "cell_type": "code",
   "execution_count": 3,
   "metadata": {},
   "outputs": [
    {
     "data": {
      "text/plain": [
       "3.1415347413317591"
      ]
     },
     "execution_count": 3,
     "metadata": {},
     "output_type": "execute_result"
    }
   ],
   "source": [
    "arc_length(lambda x: np.sqrt(1 - x**2),-1,1,0.001,1000)"
   ]
  },
  {
   "cell_type": "code",
   "execution_count": 4,
   "metadata": {},
   "outputs": [
    {
     "data": {
      "text/plain": [
       "3.141592653589793"
      ]
     },
     "execution_count": 4,
     "metadata": {},
     "output_type": "execute_result"
    }
   ],
   "source": [
    "np.pi"
   ]
  }
 ],
 "metadata": {
  "kernelspec": {
   "display_name": "Python 3",
   "language": "python",
   "name": "python3"
  },
  "language_info": {
   "codemirror_mode": {
    "name": "ipython",
    "version": 3
   },
   "file_extension": ".py",
   "mimetype": "text/x-python",
   "name": "python",
   "nbconvert_exporter": "python",
   "pygments_lexer": "ipython3",
   "version": "3.6.6"
  }
 },
 "nbformat": 4,
 "nbformat_minor": 2
}
