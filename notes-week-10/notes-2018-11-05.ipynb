{
 "cells": [
  {
   "cell_type": "markdown",
   "metadata": {},
   "source": [
    "# MATH 210 Introduction to Mathematical Computing\n",
    "\n",
    "## November 5, 2018\n",
    "\n",
    "* Gaussian elimination and matrices for row operations\n",
    "* Application: interpolation"
   ]
  },
  {
   "cell_type": "code",
   "execution_count": 1,
   "metadata": {},
   "outputs": [],
   "source": [
    "import numpy as np\n",
    "import scipy.linalg as la"
   ]
  },
  {
   "cell_type": "markdown",
   "metadata": {},
   "source": [
    "## Gaussian elimination\n",
    "\n",
    "Notice that in SciPy there is no function like `rref` in MATLAB. Let's make our own functions to do the basic row operations:\n",
    "\n",
    "1. Add row to another.\n",
    "2. Scale a row.\n",
    "3. Switch rows."
   ]
  },
  {
   "cell_type": "markdown",
   "metadata": {},
   "source": [
    "Let's write a function called `add_rows` which takes 4 input parameters `A`, `k`, `i`, and `j` and returns the matrix that results from adding `k` times row `i` to row `j`. We don't want to change the data in the input matrix `A`. We want to return a new matrix. And so we create a copy using the `.copy()` method at the beginning of our function."
   ]
  },
  {
   "cell_type": "code",
   "execution_count": 2,
   "metadata": {},
   "outputs": [],
   "source": [
    "def add_rows(A,k,i,j):\n",
    "    M = A.copy()\n",
    "    M[j,:] = k*M[i,:] + M[j,:]\n",
    "    return M"
   ]
  },
  {
   "cell_type": "code",
   "execution_count": 3,
   "metadata": {},
   "outputs": [
    {
     "data": {
      "text/plain": [
       "array([[1, 1],\n",
       "       [2, 0]])"
      ]
     },
     "execution_count": 3,
     "metadata": {},
     "output_type": "execute_result"
    }
   ],
   "source": [
    "A = np.array([[1,1],[1,-1]])\n",
    "add_rows(A,1,0,1)"
   ]
  },
  {
   "cell_type": "code",
   "execution_count": 4,
   "metadata": {},
   "outputs": [
    {
     "data": {
      "text/plain": [
       "array([[1, 1, 1],\n",
       "       [2, 0, 1]])"
      ]
     },
     "execution_count": 4,
     "metadata": {},
     "output_type": "execute_result"
    }
   ],
   "source": [
    "A = np.array([[1,1,1],[1,-1,0]])\n",
    "add_rows(A,1,0,1)"
   ]
  },
  {
   "cell_type": "markdown",
   "metadata": {},
   "source": [
    "Let's write a function called `scale_row` which takes 3 input parameters `A`, `k`, and `i` and returns the matrix that results from `k` times row `i`. Again we don't want to change the data in the input matrix A. We want to return a new matrix. And so we create a copy using the .copy() method at the beginning of our function."
   ]
  },
  {
   "cell_type": "code",
   "execution_count": 5,
   "metadata": {},
   "outputs": [],
   "source": [
    "def scale_row(A,k,i):\n",
    "    M = A.copy()\n",
    "    M[i,:] = k*M[i,:]\n",
    "    return M"
   ]
  },
  {
   "cell_type": "code",
   "execution_count": 6,
   "metadata": {},
   "outputs": [
    {
     "data": {
      "text/plain": [
       "array([[ 1,  1,  1],\n",
       "       [ 5, -5,  0]])"
      ]
     },
     "execution_count": 6,
     "metadata": {},
     "output_type": "execute_result"
    }
   ],
   "source": [
    "A = np.array([[1,1,1],[1,-1,0]])\n",
    "scale_row(A,5,1)"
   ]
  },
  {
   "cell_type": "markdown",
   "metadata": {},
   "source": [
    "Let's write a function called `switch_rows` which takes 3 input parameters `A`, `i` and `j` and returns the matrix that results switch rows `i` and `j`. Let's do this by creating a [permutation matrix](https://en.wikipedia.org/wiki/Elementary_matrix#Elementary_row_operations) for this row operation."
   ]
  },
  {
   "cell_type": "code",
   "execution_count": 7,
   "metadata": {},
   "outputs": [],
   "source": [
    "def switch_rows(A,i,j):\n",
    "    n = A.shape[0]\n",
    "    E = np.eye(n)\n",
    "    E[i,i] = 0\n",
    "    E[j,j] = 0\n",
    "    E[i,j] = 1\n",
    "    E[j,i] = 1\n",
    "    return E @ A"
   ]
  },
  {
   "cell_type": "code",
   "execution_count": 8,
   "metadata": {},
   "outputs": [],
   "source": [
    "A = np.array([[1,1,1],[1,-1,0]])\n",
    "M = switch_rows(A,0,1)"
   ]
  },
  {
   "cell_type": "code",
   "execution_count": 9,
   "metadata": {},
   "outputs": [
    {
     "data": {
      "text/plain": [
       "array([[ 1., -1.,  0.],\n",
       "       [ 1.,  1.,  1.]])"
      ]
     },
     "execution_count": 9,
     "metadata": {},
     "output_type": "execute_result"
    }
   ],
   "source": [
    "M"
   ]
  },
  {
   "cell_type": "markdown",
   "metadata": {},
   "source": [
    "## Gaussian elimination\n",
    "\n",
    "Let's apply our functions to a matrix `M` to find its row echelon form."
   ]
  },
  {
   "cell_type": "code",
   "execution_count": 10,
   "metadata": {},
   "outputs": [],
   "source": [
    "M = np.array([[5,4,2],[-1,2,1],[1,1,1]])"
   ]
  },
  {
   "cell_type": "code",
   "execution_count": 11,
   "metadata": {},
   "outputs": [
    {
     "data": {
      "text/plain": [
       "7.0"
      ]
     },
     "execution_count": 11,
     "metadata": {},
     "output_type": "execute_result"
    }
   ],
   "source": [
    "la.det(M)"
   ]
  },
  {
   "cell_type": "code",
   "execution_count": 12,
   "metadata": {},
   "outputs": [
    {
     "data": {
      "text/plain": [
       "array([[ 5,  4,  2],\n",
       "       [-1,  2,  1],\n",
       "       [ 1,  1,  1]])"
      ]
     },
     "execution_count": 12,
     "metadata": {},
     "output_type": "execute_result"
    }
   ],
   "source": [
    "M"
   ]
  },
  {
   "cell_type": "markdown",
   "metadata": {},
   "source": [
    "This is a nonsigular matrix and so it has rank 3."
   ]
  },
  {
   "cell_type": "code",
   "execution_count": 13,
   "metadata": {},
   "outputs": [
    {
     "data": {
      "text/plain": [
       "array([[ 1.,  1.,  1.],\n",
       "       [-1.,  2.,  1.],\n",
       "       [ 5.,  4.,  2.]])"
      ]
     },
     "execution_count": 13,
     "metadata": {},
     "output_type": "execute_result"
    }
   ],
   "source": [
    "E1 = switch_rows(M,0,2)\n",
    "E1"
   ]
  },
  {
   "cell_type": "code",
   "execution_count": 14,
   "metadata": {},
   "outputs": [
    {
     "data": {
      "text/plain": [
       "array([[ 1.,  1.,  1.],\n",
       "       [ 0.,  3.,  2.],\n",
       "       [ 5.,  4.,  2.]])"
      ]
     },
     "execution_count": 14,
     "metadata": {},
     "output_type": "execute_result"
    }
   ],
   "source": [
    "E2 = add_rows(E1,1,0,1)\n",
    "E2"
   ]
  },
  {
   "cell_type": "code",
   "execution_count": 15,
   "metadata": {},
   "outputs": [
    {
     "data": {
      "text/plain": [
       "array([[ 1.,  1.,  1.],\n",
       "       [ 0.,  3.,  2.],\n",
       "       [ 0., -1., -3.]])"
      ]
     },
     "execution_count": 15,
     "metadata": {},
     "output_type": "execute_result"
    }
   ],
   "source": [
    "E3 = add_rows(E2,-5,0,2)\n",
    "E3"
   ]
  },
  {
   "cell_type": "code",
   "execution_count": 16,
   "metadata": {},
   "outputs": [
    {
     "data": {
      "text/plain": [
       "array([[ 1.,  1.,  1.],\n",
       "       [ 0., -1., -3.],\n",
       "       [ 0.,  3.,  2.]])"
      ]
     },
     "execution_count": 16,
     "metadata": {},
     "output_type": "execute_result"
    }
   ],
   "source": [
    "E4 = switch_rows(E3,1,2)\n",
    "E4"
   ]
  },
  {
   "cell_type": "code",
   "execution_count": 17,
   "metadata": {},
   "outputs": [
    {
     "data": {
      "text/plain": [
       "array([[ 1.,  1.,  1.],\n",
       "       [-0.,  1.,  3.],\n",
       "       [ 0.,  3.,  2.]])"
      ]
     },
     "execution_count": 17,
     "metadata": {},
     "output_type": "execute_result"
    }
   ],
   "source": [
    "E5 = scale_row(E4,-1,1)\n",
    "E5"
   ]
  },
  {
   "cell_type": "code",
   "execution_count": 18,
   "metadata": {},
   "outputs": [
    {
     "data": {
      "text/plain": [
       "array([[ 1.,  1.,  1.],\n",
       "       [-0.,  1.,  3.],\n",
       "       [ 0.,  0., -7.]])"
      ]
     },
     "execution_count": 18,
     "metadata": {},
     "output_type": "execute_result"
    }
   ],
   "source": [
    "E6 = add_rows(E5,-3,1,2)\n",
    "E6"
   ]
  },
  {
   "cell_type": "code",
   "execution_count": 19,
   "metadata": {},
   "outputs": [
    {
     "data": {
      "text/plain": [
       "array([[ 1.,  1.,  1.],\n",
       "       [-0.,  1.,  3.],\n",
       "       [-0., -0.,  1.]])"
      ]
     },
     "execution_count": 19,
     "metadata": {},
     "output_type": "execute_result"
    }
   ],
   "source": [
    "E7 = scale_row(E6,-1/7,2)\n",
    "E7"
   ]
  },
  {
   "cell_type": "markdown",
   "metadata": {},
   "source": [
    "## Interpolation\n",
    "\n",
    "Now that we have the skills to create matrices and solve linear systems, let's do some examples.\n",
    "\n",
    "Say we have $n$ points in the xy-plane: $\\{ (x_i,y_i)\\}_{i=1}^n$. Let's find the unique degree $n-1$ polynomial which interpolates all the points:\n",
    "\n",
    "\\begin{align*}\n",
    "a_{n-1}x_1^{n-1} + \\dots + a_2 x_1^2 + a_1x_1 + a_0 &= y_1 \\\\\n",
    "a_{n-1}x_2^{n-1} + \\dots + a_2 x_2^2 + a_1x_2 + a_0 &= y_2 \\\\\n",
    "\\dots &= \\dots \\\\\n",
    "a_{n-1}x_n^{n-1} + \\dots + a_2 x_n^2 + a_1x_n + a_0 &= y_n\n",
    "\\end{align*}"
   ]
  },
  {
   "cell_type": "markdown",
   "metadata": {},
   "source": [
    "The coefficients $a_{n-1}$, $a_{n-2}$, $\\dots$, $a_0$ are the solution of $Ax=b$ where $A$ is the vandermont matrix:\n",
    "\n",
    "\\begin{bmatrix}\n",
    "x_1^{n-1} & x_1^{n-2} & \\dots & x_1 & 1 \\\\\n",
    "x_2^{n-1} & x_2^{n-2} & \\dots & x_2 & 1 \\\\\n",
    "\\dots & \\dots & & & \\\\\n",
    "x_n^{n-1} & x_n^{n-2} & \\dots & x_n & 1 \\\\\n",
    "\\end{bmatrix}\n",
    "\n",
    "and $b = [y_1, y_2, \\dots, y_n]^T$."
   ]
  },
  {
   "cell_type": "markdown",
   "metadata": {},
   "source": [
    "Let's do a simple example. We know that $y=x^2$ is the unique degree 2 polynomial that interpolates $(-1,1)$, $(0,0)$ and $(1,1)$."
   ]
  },
  {
   "cell_type": "code",
   "execution_count": 20,
   "metadata": {},
   "outputs": [],
   "source": [
    "xs = np.array([-1,0,1])\n",
    "ys = np.array([1,0,1])\n",
    "A = np.column_stack([xs**2,xs,np.ones(3)])"
   ]
  },
  {
   "cell_type": "code",
   "execution_count": 21,
   "metadata": {},
   "outputs": [
    {
     "data": {
      "text/plain": [
       "array([[ 1., -1.,  1.],\n",
       "       [ 0.,  0.,  1.],\n",
       "       [ 1.,  1.,  1.]])"
      ]
     },
     "execution_count": 21,
     "metadata": {},
     "output_type": "execute_result"
    }
   ],
   "source": [
    "A"
   ]
  },
  {
   "cell_type": "markdown",
   "metadata": {},
   "source": [
    "We expect the solution $[1,0,0]^T$."
   ]
  },
  {
   "cell_type": "code",
   "execution_count": 22,
   "metadata": {},
   "outputs": [],
   "source": [
    "x = la.solve(A,ys)"
   ]
  },
  {
   "cell_type": "code",
   "execution_count": 23,
   "metadata": {},
   "outputs": [
    {
     "data": {
      "text/plain": [
       "array([ 1.,  0.,  0.])"
      ]
     },
     "execution_count": 23,
     "metadata": {},
     "output_type": "execute_result"
    }
   ],
   "source": [
    "x"
   ]
  },
  {
   "cell_type": "markdown",
   "metadata": {},
   "source": [
    "Success! Now let's interpolate 10 random points:"
   ]
  },
  {
   "cell_type": "code",
   "execution_count": 24,
   "metadata": {},
   "outputs": [],
   "source": [
    "N = 10\n",
    "xs = np.arange(0,N)\n",
    "ys = np.random.randint(0,10,N)"
   ]
  },
  {
   "cell_type": "markdown",
   "metadata": {},
   "source": [
    "Let's plot them:"
   ]
  },
  {
   "cell_type": "code",
   "execution_count": 25,
   "metadata": {},
   "outputs": [],
   "source": [
    "import matplotlib.pyplot as plt\n",
    "%matplotlib inline"
   ]
  },
  {
   "cell_type": "code",
   "execution_count": 26,
   "metadata": {},
   "outputs": [
    {
     "data": {
      "image/png": "[encoded data removed]",
      "text/plain": [
       "<Figure size 432x288 with 1 Axes>"
      ]
     },
     "metadata": {
      "needs_background": "light"
     },
     "output_type": "display_data"
    }
   ],
   "source": [
    "plt.plot(xs,ys,'r.')\n",
    "plt.show()"
   ]
  },
  {
   "cell_type": "markdown",
   "metadata": {},
   "source": [
    "Create the Vandermonde matrix:"
   ]
  },
  {
   "cell_type": "code",
   "execution_count": 27,
   "metadata": {},
   "outputs": [],
   "source": [
    "A = np.column_stack([xs**(N-k-1) for k in range(0,N)])"
   ]
  },
  {
   "cell_type": "code",
   "execution_count": 28,
   "metadata": {},
   "outputs": [
    {
     "data": {
      "text/plain": [
       "array([[  0,   0,   0],\n",
       "       [  1,   1,   1],\n",
       "       [512, 256, 128]])"
      ]
     },
     "execution_count": 28,
     "metadata": {},
     "output_type": "execute_result"
    }
   ],
   "source": [
    "A[:3,:3]"
   ]
  },
  {
   "cell_type": "markdown",
   "metadata": {},
   "source": [
    "We could also use the NumPy function [numpy.vander](https://docs.scipy.org/doc/numpy-1.15.0/reference/generated/numpy.vander.html):"
   ]
  },
  {
   "cell_type": "code",
   "execution_count": 29,
   "metadata": {},
   "outputs": [],
   "source": [
    "A = np.vander(xs)"
   ]
  },
  {
   "cell_type": "code",
   "execution_count": 30,
   "metadata": {},
   "outputs": [
    {
     "data": {
      "text/plain": [
       "array([[  0,   0,   0],\n",
       "       [  1,   1,   1],\n",
       "       [512, 256, 128]])"
      ]
     },
     "execution_count": 30,
     "metadata": {},
     "output_type": "execute_result"
    }
   ],
   "source": [
    "A[:3,:3]"
   ]
  },
  {
   "cell_type": "code",
   "execution_count": 31,
   "metadata": {},
   "outputs": [],
   "source": [
    "an = la.solve(A,ys)"
   ]
  },
  {
   "cell_type": "code",
   "execution_count": 32,
   "metadata": {},
   "outputs": [
    {
     "data": {
      "text/plain": [
       "array([  8.54276896e-04,  -3.62847222e-02,   6.44113757e-01,\n",
       "        -6.18229167e+00,   3.46359954e+01,  -1.13826563e+02,\n",
       "         2.08221021e+02,  -1.84954861e+02,   5.64980159e+01,\n",
       "         5.00000000e+00])"
      ]
     },
     "execution_count": 32,
     "metadata": {},
     "output_type": "execute_result"
    }
   ],
   "source": [
    "an"
   ]
  },
  {
   "cell_type": "markdown",
   "metadata": {},
   "source": [
    "Let's plot the interpolation:"
   ]
  },
  {
   "cell_type": "code",
   "execution_count": 33,
   "metadata": {},
   "outputs": [
    {
     "data": {
      "image/png": "[encoded data removed]",
      "text/plain": [
       "<Figure size 432x288 with 1 Axes>"
      ]
     },
     "metadata": {
      "needs_background": "light"
     },
     "output_type": "display_data"
    }
   ],
   "source": [
    "x = np.linspace(0,N-1,200)\n",
    "y = sum([an[k]*x**(N-k-1) for k in range(0,N)])\n",
    "plt.plot(xs,ys,'r.',x,y)\n",
    "plt.show()"
   ]
  },
  {
   "cell_type": "markdown",
   "metadata": {},
   "source": [
    "Success! But notice how unstable the curve is. That's why it better to use [cubic spline](https://en.wikipedia.org/wiki/Spline_(mathematics)) to interpolate a large number of points."
   ]
  }
 ],
 "metadata": {
  "kernelspec": {
   "display_name": "Python 3",
   "language": "python",
   "name": "python3"
  },
  "language_info": {
   "codemirror_mode": {
    "name": "ipython",
    "version": 3
   },
   "file_extension": ".py",
   "mimetype": "text/x-python",
   "name": "python",
   "nbconvert_exporter": "python",
   "pygments_lexer": "ipython3",
   "version": "3.6.6"
  }
 },
 "nbformat": 4,
 "nbformat_minor": 2
}
