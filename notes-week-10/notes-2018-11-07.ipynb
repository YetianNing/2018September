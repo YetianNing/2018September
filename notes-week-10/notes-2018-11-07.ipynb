{
 "cells": [
  {
   "cell_type": "markdown",
   "metadata": {},
   "source": [
    "# MATH 210 Introduction to Mathematical Computing\n",
    "\n",
    "## November 7, 2018\n",
    "\n",
    "* `scipy.linalg.solve`\n",
    "* Interpolation and the vandermonde matrix\n",
    "* Least squares linear regression"
   ]
  },
  {
   "cell_type": "code",
   "execution_count": 1,
   "metadata": {},
   "outputs": [],
   "source": [
    "import numpy as np\n",
    "import scipy.linalg as la\n",
    "import matplotlib.pyplot as plt\n",
    "%matplotlib inline"
   ]
  },
  {
   "cell_type": "markdown",
   "metadata": {},
   "source": [
    "## Solving linear systems with scipy.linalg.solve\n",
    "\n",
    "Let's look at the documentation for `scipy.linalg.solve`."
   ]
  },
  {
   "cell_type": "code",
   "execution_count": 2,
   "metadata": {},
   "outputs": [],
   "source": [
    "la.solve?"
   ]
  },
  {
   "cell_type": "markdown",
   "metadata": {},
   "source": [
    "The function returns a solution of the system of equations $Ax=b$. For example:"
   ]
  },
  {
   "cell_type": "code",
   "execution_count": 3,
   "metadata": {},
   "outputs": [],
   "source": [
    "A = np.array([[1,1],[1,-1]])\n",
    "b1 = np.array([2,0])\n",
    "x1 = la.solve(A,b1)"
   ]
  },
  {
   "cell_type": "code",
   "execution_count": 4,
   "metadata": {},
   "outputs": [
    {
     "data": {
      "text/plain": [
       "array([ 1.,  1.])"
      ]
     },
     "execution_count": 4,
     "metadata": {},
     "output_type": "execute_result"
    }
   ],
   "source": [
    "x1"
   ]
  },
  {
   "cell_type": "markdown",
   "metadata": {},
   "source": [
    "Note that the output $x$ is returned as a 1D NumPy array when the vector $b$ (the right hand side) is entered as a 1D NumPy array. If we input $b$ as a 2D NumPy array, then the output is a 2D NumPy array. For example:"
   ]
  },
  {
   "cell_type": "code",
   "execution_count": 5,
   "metadata": {},
   "outputs": [],
   "source": [
    "A = np.array([[1,1],[1,-1]])\n",
    "b2 = np.array([2,0]).reshape(2,1)\n",
    "x2 = la.solve(A,b2)"
   ]
  },
  {
   "cell_type": "code",
   "execution_count": 6,
   "metadata": {},
   "outputs": [
    {
     "data": {
      "text/plain": [
       "array([[ 1.],\n",
       "       [ 1.]])"
      ]
     },
     "execution_count": 6,
     "metadata": {},
     "output_type": "execute_result"
    }
   ],
   "source": [
    "x2"
   ]
  },
  {
   "cell_type": "markdown",
   "metadata": {},
   "source": [
    "Finally, if the right hand side $b$ is a matrix, then the output is a matrix of the same size. It is the solution of $Ax=b$ when $b$ is a matrix. For example:"
   ]
  },
  {
   "cell_type": "code",
   "execution_count": 7,
   "metadata": {},
   "outputs": [],
   "source": [
    "A = np.array([[1,1],[1,-1]])\n",
    "b3 = np.array([[2,2],[0,1]])\n",
    "x3 = la.solve(A,b3)"
   ]
  },
  {
   "cell_type": "code",
   "execution_count": 8,
   "metadata": {},
   "outputs": [
    {
     "data": {
      "text/plain": [
       "array([[ 1. ,  1.5],\n",
       "       [ 1. ,  0.5]])"
      ]
     },
     "execution_count": 8,
     "metadata": {},
     "output_type": "execute_result"
    }
   ],
   "source": [
    "x3"
   ]
  },
  {
   "cell_type": "markdown",
   "metadata": {},
   "source": [
    "## Interpolation\n",
    "\n",
    "Given $n+1$ points in the $xy$-plane $\\{ (x_i,y_i) \\}_{i=0}^n$ where all $x_i \\not= x_j$, there is a unique polynomial of degree $n$ which interpolates the points\n",
    "\n",
    "$$\n",
    "p(x) = a_0 + a_1x + \\cdots + a_nx^n \n",
    "$$\n",
    "\n",
    "The coefficients are the unique solution $a = [a_0,a_1,\\dots,a_n]^T$ of $Xa = b$ where $b = [y_0,y_1,...,y_n]^T$ and $X$ is the [Vandermonde](https://en.wikipedia.org/wiki/Vandermonde_matrix) matrix $X_{i,j} = x_i^{j}$:\n",
    "\n",
    "$$\n",
    "X = \n",
    "\\begin{bmatrix}\n",
    "1 & x_0 & x_0^2 & \\cdots & x_0^n \\\\\n",
    "1 & x_1 & x_1^2 & \\cdots & x_n^n \\\\\n",
    "& \\vdots & & \\vdots & \\\\\n",
    "1 & x_n & x_n^2 & \\cdots & x_n^n \\\\\n",
    "\\end{bmatrix}\n",
    "$$"
   ]
  },
  {
   "cell_type": "markdown",
   "metadata": {},
   "source": [
    "There is a NumPy function which returns the [Vandermonde](https://docs.scipy.org/doc/numpy-1.15.0/reference/generated/numpy.vander.html) for a 1D array $x$. However, the function builds the columns in the opposite order than described above."
   ]
  },
  {
   "cell_type": "code",
   "execution_count": 9,
   "metadata": {},
   "outputs": [
    {
     "name": "stdout",
     "output_type": "stream",
     "text": [
      "[[1 1 1]\n",
      " [4 2 1]\n",
      " [9 3 1]]\n"
     ]
    }
   ],
   "source": [
    "x = np.array([1,2,3])\n",
    "X = np.vander(x)\n",
    "print(X)"
   ]
  },
  {
   "cell_type": "markdown",
   "metadata": {},
   "source": [
    "Therefore we specify the option `increasing=True` so that powers of $x_i$ increase left-to-right:"
   ]
  },
  {
   "cell_type": "code",
   "execution_count": 10,
   "metadata": {},
   "outputs": [
    {
     "name": "stdout",
     "output_type": "stream",
     "text": [
      "[[1 1 1]\n",
      " [1 2 4]\n",
      " [1 3 9]]\n"
     ]
    }
   ],
   "source": [
    "x = np.array([1,2,3])\n",
    "X = np.vander(x,increasing=True)\n",
    "print(X)"
   ]
  },
  {
   "cell_type": "markdown",
   "metadata": {},
   "source": [
    "Let's use this for a large number of points and plot the results."
   ]
  },
  {
   "cell_type": "code",
   "execution_count": 11,
   "metadata": {},
   "outputs": [],
   "source": [
    "x = np.arange(0,10)\n",
    "y = np.array([5,-2,7,0,1,8,-6,3,2,1])\n",
    "X = np.vander(x,increasing=True)\n",
    "a = la.solve(X,y)"
   ]
  },
  {
   "cell_type": "markdown",
   "metadata": {},
   "source": [
    "The solution $a$ is a 1D array of coefficients of the interpolating polynomial:"
   ]
  },
  {
   "cell_type": "code",
   "execution_count": 12,
   "metadata": {},
   "outputs": [
    {
     "data": {
      "text/plain": [
       "array([  5.00000000e+00,   1.09244841e+02,  -3.65527083e+02,\n",
       "         4.40270646e+02,  -2.64582118e+02,   8.94265046e+01,\n",
       "        -1.77628472e+01,   2.05469577e+00,  -1.27951389e-01,\n",
       "         3.31238977e-03])"
      ]
     },
     "execution_count": 12,
     "metadata": {},
     "output_type": "execute_result"
    }
   ],
   "source": [
    "a"
   ]
  },
  {
   "cell_type": "markdown",
   "metadata": {},
   "source": [
    "Let's plot the interpolation with the points:"
   ]
  },
  {
   "cell_type": "code",
   "execution_count": 13,
   "metadata": {},
   "outputs": [
    {
     "data": {
      "image/png": "[encoded data removed]",
      "text/plain": [
       "<Figure size 432x288 with 1 Axes>"
      ]
     },
     "metadata": {
      "needs_background": "light"
     },
     "output_type": "display_data"
    }
   ],
   "source": [
    "xs = np.linspace(0,9,100)\n",
    "ys = sum([a[k]*xs**k for k in range(0,10)])\n",
    "plt.plot(x,y,'r.',xs,ys)\n",
    "plt.show()"
   ]
  },
  {
   "cell_type": "markdown",
   "metadata": {},
   "source": [
    "This looks cool but it's over-fitting. If this was real-life data, we would want to take a polynomial with smaller degree (like a line) and fit it as best we can."
   ]
  },
  {
   "cell_type": "markdown",
   "metadata": {},
   "source": [
    "## Linear regression\n",
    "\n",
    "Suppose we have $n+1$ points in the $xy$-plane and we want to fit a line $y=a_0 + a_1x$ that best fits the data. This is called [(least squares) linear regression](https://en.wikipedia.org/wiki/Linear_regression). We want to minimize the error \n",
    "\n",
    "$$\n",
    "SSE = \\sum_i (y_i - (a_0 + a_1 x_i))^2\n",
    "$$"
   ]
  },
  {
   "cell_type": "markdown",
   "metadata": {},
   "source": [
    "We need to solve\n",
    "\n",
    "$$\n",
    "X^TXa=X^Tb\n",
    "$$\n",
    "\n",
    "where $b = [y_0,y_1,\\dots,y_n]^T$ and $a = [a_0,a_1]^T$ and\n",
    "\n",
    "$$\n",
    "X = \n",
    "\\begin{bmatrix}\n",
    "1 & x_0 \\\\\n",
    "1 & x_1 \\\\\n",
    "\\vdots & \\vdots \\\\\n",
    "1 & x_n\n",
    "\\end{bmatrix}\n",
    "$$"
   ]
  }
 ],
 "metadata": {
  "kernelspec": {
   "display_name": "Python 3",
   "language": "python",
   "name": "python3"
  },
  "language_info": {
   "codemirror_mode": {
    "name": "ipython",
    "version": 3
   },
   "file_extension": ".py",
   "mimetype": "text/x-python",
   "name": "python",
   "nbconvert_exporter": "python",
   "pygments_lexer": "ipython3",
   "version": "3.6.6"
  }
 },
 "nbformat": 4,
 "nbformat_minor": 2
}
